{
  "nbformat": 4,
  "nbformat_minor": 0,
  "metadata": {
    "colab": {
      "name": "CNN_MNIST.ipynb",
      "provenance": [],
      "collapsed_sections": []
    },
    "kernelspec": {
      "name": "python3",
      "display_name": "Python 3"
    },
    "widgets": {
      "application/vnd.jupyter.widget-state+json": {
        "bb90d443a0cc4f44b01bdd33f01a00b2": {
          "model_module": "@jupyter-widgets/controls",
          "model_name": "HBoxModel",
          "state": {
            "_view_name": "HBoxView",
            "_dom_classes": [],
            "_model_name": "HBoxModel",
            "_view_module": "@jupyter-widgets/controls",
            "_model_module_version": "1.5.0",
            "_view_count": null,
            "_view_module_version": "1.5.0",
            "box_style": "",
            "layout": "IPY_MODEL_29cff0d25e01421c8aa786c0e80fb8f3",
            "_model_module": "@jupyter-widgets/controls",
            "children": [
              "IPY_MODEL_417a978da0d14cb99e6f130b6b8437e2",
              "IPY_MODEL_2e6eb16a0fce40a69cc28b661431dc92"
            ]
          }
        },
        "29cff0d25e01421c8aa786c0e80fb8f3": {
          "model_module": "@jupyter-widgets/base",
          "model_name": "LayoutModel",
          "state": {
            "_view_name": "LayoutView",
            "grid_template_rows": null,
            "right": null,
            "justify_content": null,
            "_view_module": "@jupyter-widgets/base",
            "overflow": null,
            "_model_module_version": "1.2.0",
            "_view_count": null,
            "flex_flow": null,
            "width": null,
            "min_width": null,
            "border": null,
            "align_items": null,
            "bottom": null,
            "_model_module": "@jupyter-widgets/base",
            "top": null,
            "grid_column": null,
            "overflow_y": null,
            "overflow_x": null,
            "grid_auto_flow": null,
            "grid_area": null,
            "grid_template_columns": null,
            "flex": null,
            "_model_name": "LayoutModel",
            "justify_items": null,
            "grid_row": null,
            "max_height": null,
            "align_content": null,
            "visibility": null,
            "align_self": null,
            "height": null,
            "min_height": null,
            "padding": null,
            "grid_auto_rows": null,
            "grid_gap": null,
            "max_width": null,
            "order": null,
            "_view_module_version": "1.2.0",
            "grid_template_areas": null,
            "object_position": null,
            "object_fit": null,
            "grid_auto_columns": null,
            "margin": null,
            "display": null,
            "left": null
          }
        },
        "417a978da0d14cb99e6f130b6b8437e2": {
          "model_module": "@jupyter-widgets/controls",
          "model_name": "FloatProgressModel",
          "state": {
            "_view_name": "ProgressView",
            "style": "IPY_MODEL_2e449f1b86574d499d0e99bcfccf78a0",
            "_dom_classes": [],
            "description": "",
            "_model_name": "FloatProgressModel",
            "bar_style": "info",
            "max": 1,
            "_view_module": "@jupyter-widgets/controls",
            "_model_module_version": "1.5.0",
            "value": 1,
            "_view_count": null,
            "_view_module_version": "1.5.0",
            "orientation": "horizontal",
            "min": 0,
            "description_tooltip": null,
            "_model_module": "@jupyter-widgets/controls",
            "layout": "IPY_MODEL_56a9b4a470bb4099a5832b6fc98a7204"
          }
        },
        "2e6eb16a0fce40a69cc28b661431dc92": {
          "model_module": "@jupyter-widgets/controls",
          "model_name": "HTMLModel",
          "state": {
            "_view_name": "HTMLView",
            "style": "IPY_MODEL_2ed89cbbc70c4ff4baa7d0c30890ac39",
            "_dom_classes": [],
            "description": "",
            "_model_name": "HTMLModel",
            "placeholder": "​",
            "_view_module": "@jupyter-widgets/controls",
            "_model_module_version": "1.5.0",
            "value": " 9920512/? [00:20&lt;00:00, 8399498.39it/s]",
            "_view_count": null,
            "_view_module_version": "1.5.0",
            "description_tooltip": null,
            "_model_module": "@jupyter-widgets/controls",
            "layout": "IPY_MODEL_01b988ed524b43b8be8f079771088e91"
          }
        },
        "2e449f1b86574d499d0e99bcfccf78a0": {
          "model_module": "@jupyter-widgets/controls",
          "model_name": "ProgressStyleModel",
          "state": {
            "_view_name": "StyleView",
            "_model_name": "ProgressStyleModel",
            "description_width": "initial",
            "_view_module": "@jupyter-widgets/base",
            "_model_module_version": "1.5.0",
            "_view_count": null,
            "_view_module_version": "1.2.0",
            "bar_color": null,
            "_model_module": "@jupyter-widgets/controls"
          }
        },
        "56a9b4a470bb4099a5832b6fc98a7204": {
          "model_module": "@jupyter-widgets/base",
          "model_name": "LayoutModel",
          "state": {
            "_view_name": "LayoutView",
            "grid_template_rows": null,
            "right": null,
            "justify_content": null,
            "_view_module": "@jupyter-widgets/base",
            "overflow": null,
            "_model_module_version": "1.2.0",
            "_view_count": null,
            "flex_flow": null,
            "width": null,
            "min_width": null,
            "border": null,
            "align_items": null,
            "bottom": null,
            "_model_module": "@jupyter-widgets/base",
            "top": null,
            "grid_column": null,
            "overflow_y": null,
            "overflow_x": null,
            "grid_auto_flow": null,
            "grid_area": null,
            "grid_template_columns": null,
            "flex": null,
            "_model_name": "LayoutModel",
            "justify_items": null,
            "grid_row": null,
            "max_height": null,
            "align_content": null,
            "visibility": null,
            "align_self": null,
            "height": null,
            "min_height": null,
            "padding": null,
            "grid_auto_rows": null,
            "grid_gap": null,
            "max_width": null,
            "order": null,
            "_view_module_version": "1.2.0",
            "grid_template_areas": null,
            "object_position": null,
            "object_fit": null,
            "grid_auto_columns": null,
            "margin": null,
            "display": null,
            "left": null
          }
        },
        "2ed89cbbc70c4ff4baa7d0c30890ac39": {
          "model_module": "@jupyter-widgets/controls",
          "model_name": "DescriptionStyleModel",
          "state": {
            "_view_name": "StyleView",
            "_model_name": "DescriptionStyleModel",
            "description_width": "",
            "_view_module": "@jupyter-widgets/base",
            "_model_module_version": "1.5.0",
            "_view_count": null,
            "_view_module_version": "1.2.0",
            "_model_module": "@jupyter-widgets/controls"
          }
        },
        "01b988ed524b43b8be8f079771088e91": {
          "model_module": "@jupyter-widgets/base",
          "model_name": "LayoutModel",
          "state": {
            "_view_name": "LayoutView",
            "grid_template_rows": null,
            "right": null,
            "justify_content": null,
            "_view_module": "@jupyter-widgets/base",
            "overflow": null,
            "_model_module_version": "1.2.0",
            "_view_count": null,
            "flex_flow": null,
            "width": null,
            "min_width": null,
            "border": null,
            "align_items": null,
            "bottom": null,
            "_model_module": "@jupyter-widgets/base",
            "top": null,
            "grid_column": null,
            "overflow_y": null,
            "overflow_x": null,
            "grid_auto_flow": null,
            "grid_area": null,
            "grid_template_columns": null,
            "flex": null,
            "_model_name": "LayoutModel",
            "justify_items": null,
            "grid_row": null,
            "max_height": null,
            "align_content": null,
            "visibility": null,
            "align_self": null,
            "height": null,
            "min_height": null,
            "padding": null,
            "grid_auto_rows": null,
            "grid_gap": null,
            "max_width": null,
            "order": null,
            "_view_module_version": "1.2.0",
            "grid_template_areas": null,
            "object_position": null,
            "object_fit": null,
            "grid_auto_columns": null,
            "margin": null,
            "display": null,
            "left": null
          }
        },
        "f4285f8d1c6b490fb8a9412e8cf1090d": {
          "model_module": "@jupyter-widgets/controls",
          "model_name": "HBoxModel",
          "state": {
            "_view_name": "HBoxView",
            "_dom_classes": [],
            "_model_name": "HBoxModel",
            "_view_module": "@jupyter-widgets/controls",
            "_model_module_version": "1.5.0",
            "_view_count": null,
            "_view_module_version": "1.5.0",
            "box_style": "",
            "layout": "IPY_MODEL_7b71f09ff48945bfbba878dd1f4ea16c",
            "_model_module": "@jupyter-widgets/controls",
            "children": [
              "IPY_MODEL_b7a9e973b97748ef89d588f74e708ffa",
              "IPY_MODEL_4c5ce2ddaca54c33a2e413d119d058c4"
            ]
          }
        },
        "7b71f09ff48945bfbba878dd1f4ea16c": {
          "model_module": "@jupyter-widgets/base",
          "model_name": "LayoutModel",
          "state": {
            "_view_name": "LayoutView",
            "grid_template_rows": null,
            "right": null,
            "justify_content": null,
            "_view_module": "@jupyter-widgets/base",
            "overflow": null,
            "_model_module_version": "1.2.0",
            "_view_count": null,
            "flex_flow": null,
            "width": null,
            "min_width": null,
            "border": null,
            "align_items": null,
            "bottom": null,
            "_model_module": "@jupyter-widgets/base",
            "top": null,
            "grid_column": null,
            "overflow_y": null,
            "overflow_x": null,
            "grid_auto_flow": null,
            "grid_area": null,
            "grid_template_columns": null,
            "flex": null,
            "_model_name": "LayoutModel",
            "justify_items": null,
            "grid_row": null,
            "max_height": null,
            "align_content": null,
            "visibility": null,
            "align_self": null,
            "height": null,
            "min_height": null,
            "padding": null,
            "grid_auto_rows": null,
            "grid_gap": null,
            "max_width": null,
            "order": null,
            "_view_module_version": "1.2.0",
            "grid_template_areas": null,
            "object_position": null,
            "object_fit": null,
            "grid_auto_columns": null,
            "margin": null,
            "display": null,
            "left": null
          }
        },
        "b7a9e973b97748ef89d588f74e708ffa": {
          "model_module": "@jupyter-widgets/controls",
          "model_name": "FloatProgressModel",
          "state": {
            "_view_name": "ProgressView",
            "style": "IPY_MODEL_1d912b038793460bb6a8aff5223e232e",
            "_dom_classes": [],
            "description": "  0%",
            "_model_name": "FloatProgressModel",
            "bar_style": "info",
            "max": 1,
            "_view_module": "@jupyter-widgets/controls",
            "_model_module_version": "1.5.0",
            "value": 0,
            "_view_count": null,
            "_view_module_version": "1.5.0",
            "orientation": "horizontal",
            "min": 0,
            "description_tooltip": null,
            "_model_module": "@jupyter-widgets/controls",
            "layout": "IPY_MODEL_c9e1b800fdb749eca816b599de11e589"
          }
        },
        "4c5ce2ddaca54c33a2e413d119d058c4": {
          "model_module": "@jupyter-widgets/controls",
          "model_name": "HTMLModel",
          "state": {
            "_view_name": "HTMLView",
            "style": "IPY_MODEL_78cf95a4a91e4d8e9a48551872133a45",
            "_dom_classes": [],
            "description": "",
            "_model_name": "HTMLModel",
            "placeholder": "​",
            "_view_module": "@jupyter-widgets/controls",
            "_model_module_version": "1.5.0",
            "value": " 0/28881 [00:00&lt;?, ?it/s]",
            "_view_count": null,
            "_view_module_version": "1.5.0",
            "description_tooltip": null,
            "_model_module": "@jupyter-widgets/controls",
            "layout": "IPY_MODEL_e95d2b3222f84f61a51167e535c074ba"
          }
        },
        "1d912b038793460bb6a8aff5223e232e": {
          "model_module": "@jupyter-widgets/controls",
          "model_name": "ProgressStyleModel",
          "state": {
            "_view_name": "StyleView",
            "_model_name": "ProgressStyleModel",
            "description_width": "initial",
            "_view_module": "@jupyter-widgets/base",
            "_model_module_version": "1.5.0",
            "_view_count": null,
            "_view_module_version": "1.2.0",
            "bar_color": null,
            "_model_module": "@jupyter-widgets/controls"
          }
        },
        "c9e1b800fdb749eca816b599de11e589": {
          "model_module": "@jupyter-widgets/base",
          "model_name": "LayoutModel",
          "state": {
            "_view_name": "LayoutView",
            "grid_template_rows": null,
            "right": null,
            "justify_content": null,
            "_view_module": "@jupyter-widgets/base",
            "overflow": null,
            "_model_module_version": "1.2.0",
            "_view_count": null,
            "flex_flow": null,
            "width": null,
            "min_width": null,
            "border": null,
            "align_items": null,
            "bottom": null,
            "_model_module": "@jupyter-widgets/base",
            "top": null,
            "grid_column": null,
            "overflow_y": null,
            "overflow_x": null,
            "grid_auto_flow": null,
            "grid_area": null,
            "grid_template_columns": null,
            "flex": null,
            "_model_name": "LayoutModel",
            "justify_items": null,
            "grid_row": null,
            "max_height": null,
            "align_content": null,
            "visibility": null,
            "align_self": null,
            "height": null,
            "min_height": null,
            "padding": null,
            "grid_auto_rows": null,
            "grid_gap": null,
            "max_width": null,
            "order": null,
            "_view_module_version": "1.2.0",
            "grid_template_areas": null,
            "object_position": null,
            "object_fit": null,
            "grid_auto_columns": null,
            "margin": null,
            "display": null,
            "left": null
          }
        },
        "78cf95a4a91e4d8e9a48551872133a45": {
          "model_module": "@jupyter-widgets/controls",
          "model_name": "DescriptionStyleModel",
          "state": {
            "_view_name": "StyleView",
            "_model_name": "DescriptionStyleModel",
            "description_width": "",
            "_view_module": "@jupyter-widgets/base",
            "_model_module_version": "1.5.0",
            "_view_count": null,
            "_view_module_version": "1.2.0",
            "_model_module": "@jupyter-widgets/controls"
          }
        },
        "e95d2b3222f84f61a51167e535c074ba": {
          "model_module": "@jupyter-widgets/base",
          "model_name": "LayoutModel",
          "state": {
            "_view_name": "LayoutView",
            "grid_template_rows": null,
            "right": null,
            "justify_content": null,
            "_view_module": "@jupyter-widgets/base",
            "overflow": null,
            "_model_module_version": "1.2.0",
            "_view_count": null,
            "flex_flow": null,
            "width": null,
            "min_width": null,
            "border": null,
            "align_items": null,
            "bottom": null,
            "_model_module": "@jupyter-widgets/base",
            "top": null,
            "grid_column": null,
            "overflow_y": null,
            "overflow_x": null,
            "grid_auto_flow": null,
            "grid_area": null,
            "grid_template_columns": null,
            "flex": null,
            "_model_name": "LayoutModel",
            "justify_items": null,
            "grid_row": null,
            "max_height": null,
            "align_content": null,
            "visibility": null,
            "align_self": null,
            "height": null,
            "min_height": null,
            "padding": null,
            "grid_auto_rows": null,
            "grid_gap": null,
            "max_width": null,
            "order": null,
            "_view_module_version": "1.2.0",
            "grid_template_areas": null,
            "object_position": null,
            "object_fit": null,
            "grid_auto_columns": null,
            "margin": null,
            "display": null,
            "left": null
          }
        },
        "bfd1d3d866444ba5b39670295d18beb4": {
          "model_module": "@jupyter-widgets/controls",
          "model_name": "HBoxModel",
          "state": {
            "_view_name": "HBoxView",
            "_dom_classes": [],
            "_model_name": "HBoxModel",
            "_view_module": "@jupyter-widgets/controls",
            "_model_module_version": "1.5.0",
            "_view_count": null,
            "_view_module_version": "1.5.0",
            "box_style": "",
            "layout": "IPY_MODEL_413e5ed8538c4c5fb26d725ad5c886b5",
            "_model_module": "@jupyter-widgets/controls",
            "children": [
              "IPY_MODEL_79a2507a6c28418fa1eb77d177b752cd",
              "IPY_MODEL_803843e6b31b442ab7ec1535dff40811"
            ]
          }
        },
        "413e5ed8538c4c5fb26d725ad5c886b5": {
          "model_module": "@jupyter-widgets/base",
          "model_name": "LayoutModel",
          "state": {
            "_view_name": "LayoutView",
            "grid_template_rows": null,
            "right": null,
            "justify_content": null,
            "_view_module": "@jupyter-widgets/base",
            "overflow": null,
            "_model_module_version": "1.2.0",
            "_view_count": null,
            "flex_flow": null,
            "width": null,
            "min_width": null,
            "border": null,
            "align_items": null,
            "bottom": null,
            "_model_module": "@jupyter-widgets/base",
            "top": null,
            "grid_column": null,
            "overflow_y": null,
            "overflow_x": null,
            "grid_auto_flow": null,
            "grid_area": null,
            "grid_template_columns": null,
            "flex": null,
            "_model_name": "LayoutModel",
            "justify_items": null,
            "grid_row": null,
            "max_height": null,
            "align_content": null,
            "visibility": null,
            "align_self": null,
            "height": null,
            "min_height": null,
            "padding": null,
            "grid_auto_rows": null,
            "grid_gap": null,
            "max_width": null,
            "order": null,
            "_view_module_version": "1.2.0",
            "grid_template_areas": null,
            "object_position": null,
            "object_fit": null,
            "grid_auto_columns": null,
            "margin": null,
            "display": null,
            "left": null
          }
        },
        "79a2507a6c28418fa1eb77d177b752cd": {
          "model_module": "@jupyter-widgets/controls",
          "model_name": "FloatProgressModel",
          "state": {
            "_view_name": "ProgressView",
            "style": "IPY_MODEL_bd9bcf261d304b0d965a5e22dd7822af",
            "_dom_classes": [],
            "description": "",
            "_model_name": "FloatProgressModel",
            "bar_style": "success",
            "max": 1,
            "_view_module": "@jupyter-widgets/controls",
            "_model_module_version": "1.5.0",
            "value": 1,
            "_view_count": null,
            "_view_module_version": "1.5.0",
            "orientation": "horizontal",
            "min": 0,
            "description_tooltip": null,
            "_model_module": "@jupyter-widgets/controls",
            "layout": "IPY_MODEL_bc3ac65921e94e248e5062d1efc6f56e"
          }
        },
        "803843e6b31b442ab7ec1535dff40811": {
          "model_module": "@jupyter-widgets/controls",
          "model_name": "HTMLModel",
          "state": {
            "_view_name": "HTMLView",
            "style": "IPY_MODEL_d7feb8e169d640fca9d98f1ab0f51325",
            "_dom_classes": [],
            "description": "",
            "_model_name": "HTMLModel",
            "placeholder": "​",
            "_view_module": "@jupyter-widgets/controls",
            "_model_module_version": "1.5.0",
            "value": " 1654784/? [00:00&lt;00:00, 2400409.74it/s]",
            "_view_count": null,
            "_view_module_version": "1.5.0",
            "description_tooltip": null,
            "_model_module": "@jupyter-widgets/controls",
            "layout": "IPY_MODEL_39e3d15564cb4b9cb1da0dd0dd189e37"
          }
        },
        "bd9bcf261d304b0d965a5e22dd7822af": {
          "model_module": "@jupyter-widgets/controls",
          "model_name": "ProgressStyleModel",
          "state": {
            "_view_name": "StyleView",
            "_model_name": "ProgressStyleModel",
            "description_width": "initial",
            "_view_module": "@jupyter-widgets/base",
            "_model_module_version": "1.5.0",
            "_view_count": null,
            "_view_module_version": "1.2.0",
            "bar_color": null,
            "_model_module": "@jupyter-widgets/controls"
          }
        },
        "bc3ac65921e94e248e5062d1efc6f56e": {
          "model_module": "@jupyter-widgets/base",
          "model_name": "LayoutModel",
          "state": {
            "_view_name": "LayoutView",
            "grid_template_rows": null,
            "right": null,
            "justify_content": null,
            "_view_module": "@jupyter-widgets/base",
            "overflow": null,
            "_model_module_version": "1.2.0",
            "_view_count": null,
            "flex_flow": null,
            "width": null,
            "min_width": null,
            "border": null,
            "align_items": null,
            "bottom": null,
            "_model_module": "@jupyter-widgets/base",
            "top": null,
            "grid_column": null,
            "overflow_y": null,
            "overflow_x": null,
            "grid_auto_flow": null,
            "grid_area": null,
            "grid_template_columns": null,
            "flex": null,
            "_model_name": "LayoutModel",
            "justify_items": null,
            "grid_row": null,
            "max_height": null,
            "align_content": null,
            "visibility": null,
            "align_self": null,
            "height": null,
            "min_height": null,
            "padding": null,
            "grid_auto_rows": null,
            "grid_gap": null,
            "max_width": null,
            "order": null,
            "_view_module_version": "1.2.0",
            "grid_template_areas": null,
            "object_position": null,
            "object_fit": null,
            "grid_auto_columns": null,
            "margin": null,
            "display": null,
            "left": null
          }
        },
        "d7feb8e169d640fca9d98f1ab0f51325": {
          "model_module": "@jupyter-widgets/controls",
          "model_name": "DescriptionStyleModel",
          "state": {
            "_view_name": "StyleView",
            "_model_name": "DescriptionStyleModel",
            "description_width": "",
            "_view_module": "@jupyter-widgets/base",
            "_model_module_version": "1.5.0",
            "_view_count": null,
            "_view_module_version": "1.2.0",
            "_model_module": "@jupyter-widgets/controls"
          }
        },
        "39e3d15564cb4b9cb1da0dd0dd189e37": {
          "model_module": "@jupyter-widgets/base",
          "model_name": "LayoutModel",
          "state": {
            "_view_name": "LayoutView",
            "grid_template_rows": null,
            "right": null,
            "justify_content": null,
            "_view_module": "@jupyter-widgets/base",
            "overflow": null,
            "_model_module_version": "1.2.0",
            "_view_count": null,
            "flex_flow": null,
            "width": null,
            "min_width": null,
            "border": null,
            "align_items": null,
            "bottom": null,
            "_model_module": "@jupyter-widgets/base",
            "top": null,
            "grid_column": null,
            "overflow_y": null,
            "overflow_x": null,
            "grid_auto_flow": null,
            "grid_area": null,
            "grid_template_columns": null,
            "flex": null,
            "_model_name": "LayoutModel",
            "justify_items": null,
            "grid_row": null,
            "max_height": null,
            "align_content": null,
            "visibility": null,
            "align_self": null,
            "height": null,
            "min_height": null,
            "padding": null,
            "grid_auto_rows": null,
            "grid_gap": null,
            "max_width": null,
            "order": null,
            "_view_module_version": "1.2.0",
            "grid_template_areas": null,
            "object_position": null,
            "object_fit": null,
            "grid_auto_columns": null,
            "margin": null,
            "display": null,
            "left": null
          }
        },
        "958dbab978cc4262810e934bfe2e34e5": {
          "model_module": "@jupyter-widgets/controls",
          "model_name": "HBoxModel",
          "state": {
            "_view_name": "HBoxView",
            "_dom_classes": [],
            "_model_name": "HBoxModel",
            "_view_module": "@jupyter-widgets/controls",
            "_model_module_version": "1.5.0",
            "_view_count": null,
            "_view_module_version": "1.5.0",
            "box_style": "",
            "layout": "IPY_MODEL_a9e2cf9b6e924c9fb327a186eae607a8",
            "_model_module": "@jupyter-widgets/controls",
            "children": [
              "IPY_MODEL_350e5d5fb5844bcbb0108e68533069ca",
              "IPY_MODEL_daa313fd858c4b50a46811bfb905ea5c"
            ]
          }
        },
        "a9e2cf9b6e924c9fb327a186eae607a8": {
          "model_module": "@jupyter-widgets/base",
          "model_name": "LayoutModel",
          "state": {
            "_view_name": "LayoutView",
            "grid_template_rows": null,
            "right": null,
            "justify_content": null,
            "_view_module": "@jupyter-widgets/base",
            "overflow": null,
            "_model_module_version": "1.2.0",
            "_view_count": null,
            "flex_flow": null,
            "width": null,
            "min_width": null,
            "border": null,
            "align_items": null,
            "bottom": null,
            "_model_module": "@jupyter-widgets/base",
            "top": null,
            "grid_column": null,
            "overflow_y": null,
            "overflow_x": null,
            "grid_auto_flow": null,
            "grid_area": null,
            "grid_template_columns": null,
            "flex": null,
            "_model_name": "LayoutModel",
            "justify_items": null,
            "grid_row": null,
            "max_height": null,
            "align_content": null,
            "visibility": null,
            "align_self": null,
            "height": null,
            "min_height": null,
            "padding": null,
            "grid_auto_rows": null,
            "grid_gap": null,
            "max_width": null,
            "order": null,
            "_view_module_version": "1.2.0",
            "grid_template_areas": null,
            "object_position": null,
            "object_fit": null,
            "grid_auto_columns": null,
            "margin": null,
            "display": null,
            "left": null
          }
        },
        "350e5d5fb5844bcbb0108e68533069ca": {
          "model_module": "@jupyter-widgets/controls",
          "model_name": "FloatProgressModel",
          "state": {
            "_view_name": "ProgressView",
            "style": "IPY_MODEL_3be6bc08e5ca4a3cb536841884bc16d6",
            "_dom_classes": [],
            "description": "",
            "_model_name": "FloatProgressModel",
            "bar_style": "success",
            "max": 1,
            "_view_module": "@jupyter-widgets/controls",
            "_model_module_version": "1.5.0",
            "value": 1,
            "_view_count": null,
            "_view_module_version": "1.5.0",
            "orientation": "horizontal",
            "min": 0,
            "description_tooltip": null,
            "_model_module": "@jupyter-widgets/controls",
            "layout": "IPY_MODEL_71a97c2613f24cd690f7b8db508ee11f"
          }
        },
        "daa313fd858c4b50a46811bfb905ea5c": {
          "model_module": "@jupyter-widgets/controls",
          "model_name": "HTMLModel",
          "state": {
            "_view_name": "HTMLView",
            "style": "IPY_MODEL_7f9aed9fb05a4461a13e2217dcf9b663",
            "_dom_classes": [],
            "description": "",
            "_model_name": "HTMLModel",
            "placeholder": "​",
            "_view_module": "@jupyter-widgets/controls",
            "_model_module_version": "1.5.0",
            "value": " 8192/? [00:00&lt;00:00, 22514.60it/s]",
            "_view_count": null,
            "_view_module_version": "1.5.0",
            "description_tooltip": null,
            "_model_module": "@jupyter-widgets/controls",
            "layout": "IPY_MODEL_1cd4cda568864bbb8b3f17d1a4119f61"
          }
        },
        "3be6bc08e5ca4a3cb536841884bc16d6": {
          "model_module": "@jupyter-widgets/controls",
          "model_name": "ProgressStyleModel",
          "state": {
            "_view_name": "StyleView",
            "_model_name": "ProgressStyleModel",
            "description_width": "initial",
            "_view_module": "@jupyter-widgets/base",
            "_model_module_version": "1.5.0",
            "_view_count": null,
            "_view_module_version": "1.2.0",
            "bar_color": null,
            "_model_module": "@jupyter-widgets/controls"
          }
        },
        "71a97c2613f24cd690f7b8db508ee11f": {
          "model_module": "@jupyter-widgets/base",
          "model_name": "LayoutModel",
          "state": {
            "_view_name": "LayoutView",
            "grid_template_rows": null,
            "right": null,
            "justify_content": null,
            "_view_module": "@jupyter-widgets/base",
            "overflow": null,
            "_model_module_version": "1.2.0",
            "_view_count": null,
            "flex_flow": null,
            "width": null,
            "min_width": null,
            "border": null,
            "align_items": null,
            "bottom": null,
            "_model_module": "@jupyter-widgets/base",
            "top": null,
            "grid_column": null,
            "overflow_y": null,
            "overflow_x": null,
            "grid_auto_flow": null,
            "grid_area": null,
            "grid_template_columns": null,
            "flex": null,
            "_model_name": "LayoutModel",
            "justify_items": null,
            "grid_row": null,
            "max_height": null,
            "align_content": null,
            "visibility": null,
            "align_self": null,
            "height": null,
            "min_height": null,
            "padding": null,
            "grid_auto_rows": null,
            "grid_gap": null,
            "max_width": null,
            "order": null,
            "_view_module_version": "1.2.0",
            "grid_template_areas": null,
            "object_position": null,
            "object_fit": null,
            "grid_auto_columns": null,
            "margin": null,
            "display": null,
            "left": null
          }
        },
        "7f9aed9fb05a4461a13e2217dcf9b663": {
          "model_module": "@jupyter-widgets/controls",
          "model_name": "DescriptionStyleModel",
          "state": {
            "_view_name": "StyleView",
            "_model_name": "DescriptionStyleModel",
            "description_width": "",
            "_view_module": "@jupyter-widgets/base",
            "_model_module_version": "1.5.0",
            "_view_count": null,
            "_view_module_version": "1.2.0",
            "_model_module": "@jupyter-widgets/controls"
          }
        },
        "1cd4cda568864bbb8b3f17d1a4119f61": {
          "model_module": "@jupyter-widgets/base",
          "model_name": "LayoutModel",
          "state": {
            "_view_name": "LayoutView",
            "grid_template_rows": null,
            "right": null,
            "justify_content": null,
            "_view_module": "@jupyter-widgets/base",
            "overflow": null,
            "_model_module_version": "1.2.0",
            "_view_count": null,
            "flex_flow": null,
            "width": null,
            "min_width": null,
            "border": null,
            "align_items": null,
            "bottom": null,
            "_model_module": "@jupyter-widgets/base",
            "top": null,
            "grid_column": null,
            "overflow_y": null,
            "overflow_x": null,
            "grid_auto_flow": null,
            "grid_area": null,
            "grid_template_columns": null,
            "flex": null,
            "_model_name": "LayoutModel",
            "justify_items": null,
            "grid_row": null,
            "max_height": null,
            "align_content": null,
            "visibility": null,
            "align_self": null,
            "height": null,
            "min_height": null,
            "padding": null,
            "grid_auto_rows": null,
            "grid_gap": null,
            "max_width": null,
            "order": null,
            "_view_module_version": "1.2.0",
            "grid_template_areas": null,
            "object_position": null,
            "object_fit": null,
            "grid_auto_columns": null,
            "margin": null,
            "display": null,
            "left": null
          }
        }
      }
    }
  },
  "cells": [
    {
      "cell_type": "code",
      "metadata": {
        "id": "hEUZ3qLEWtyg"
      },
      "source": [
        "import torch\n",
        "import matplotlib.pyplot as plt\n",
        "import numpy as np\n",
        "import torch.nn.functional as F\n",
        "from torch import nn\n",
        "from torchvision import datasets, transforms"
      ],
      "execution_count": 1,
      "outputs": []
    },
    {
      "cell_type": "code",
      "metadata": {
        "id": "JSiGUFdkaS38",
        "colab": {
          "base_uri": "https://localhost:8080/",
          "height": 385,
          "referenced_widgets": [
            "bb90d443a0cc4f44b01bdd33f01a00b2",
            "29cff0d25e01421c8aa786c0e80fb8f3",
            "417a978da0d14cb99e6f130b6b8437e2",
            "2e6eb16a0fce40a69cc28b661431dc92",
            "2e449f1b86574d499d0e99bcfccf78a0",
            "56a9b4a470bb4099a5832b6fc98a7204",
            "2ed89cbbc70c4ff4baa7d0c30890ac39",
            "01b988ed524b43b8be8f079771088e91",
            "f4285f8d1c6b490fb8a9412e8cf1090d",
            "7b71f09ff48945bfbba878dd1f4ea16c",
            "b7a9e973b97748ef89d588f74e708ffa",
            "4c5ce2ddaca54c33a2e413d119d058c4",
            "1d912b038793460bb6a8aff5223e232e",
            "c9e1b800fdb749eca816b599de11e589",
            "78cf95a4a91e4d8e9a48551872133a45",
            "e95d2b3222f84f61a51167e535c074ba",
            "bfd1d3d866444ba5b39670295d18beb4",
            "413e5ed8538c4c5fb26d725ad5c886b5",
            "79a2507a6c28418fa1eb77d177b752cd",
            "803843e6b31b442ab7ec1535dff40811",
            "bd9bcf261d304b0d965a5e22dd7822af",
            "bc3ac65921e94e248e5062d1efc6f56e",
            "d7feb8e169d640fca9d98f1ab0f51325",
            "39e3d15564cb4b9cb1da0dd0dd189e37",
            "958dbab978cc4262810e934bfe2e34e5",
            "a9e2cf9b6e924c9fb327a186eae607a8",
            "350e5d5fb5844bcbb0108e68533069ca",
            "daa313fd858c4b50a46811bfb905ea5c",
            "3be6bc08e5ca4a3cb536841884bc16d6",
            "71a97c2613f24cd690f7b8db508ee11f",
            "7f9aed9fb05a4461a13e2217dcf9b663",
            "1cd4cda568864bbb8b3f17d1a4119f61"
          ]
        },
        "outputId": "7a9e6de1-05a9-41c6-c91a-acb9ebf348b1"
      },
      "source": [
        "mnist_transform=transforms.Compose([\n",
        "                              transforms.Resize((28,28)),\n",
        "                              transforms.ToTensor(), # first, convert image to PyTorch (float) tensor\n",
        "                              transforms.Normalize((0.5,), (0.5,)) # normalize inputs, x' = (x-u)/std, x'=[-1, 1] \n",
        "                              ])     \n",
        "\n",
        "train_dataset = datasets.MNIST(root='./mnist_data', \n",
        "                                  train=True, \n",
        "                                  download=True, \n",
        "                                  transform=mnist_transform)\n",
        "\n",
        "train_loader = torch.utils.data.DataLoader(train_dataset, batch_size=100, shuffle=True) \n",
        "# shuffle training data before each epoch to avoid local min\n",
        "\n",
        "# validation or test \n",
        "validation_dataset = datasets.MNIST(root='./mnist_data', \n",
        "                                  train=False, \n",
        "                                  download=True, \n",
        "                                  transform=mnist_transform)\n",
        "\n",
        "validation_loader = torch.utils.data.DataLoader(validation_dataset, batch_size=100, shuffle=False) \n",
        "#print(train_dataset)\n",
        "#print(validation_dataset)"
      ],
      "execution_count": 2,
      "outputs": [
        {
          "output_type": "stream",
          "text": [
            "Downloading http://yann.lecun.com/exdb/mnist/train-images-idx3-ubyte.gz to ./mnist_data/MNIST/raw/train-images-idx3-ubyte.gz\n"
          ],
          "name": "stdout"
        },
        {
          "output_type": "display_data",
          "data": {
            "application/vnd.jupyter.widget-view+json": {
              "model_id": "bb90d443a0cc4f44b01bdd33f01a00b2",
              "version_minor": 0,
              "version_major": 2
            },
            "text/plain": [
              "HBox(children=(FloatProgress(value=1.0, bar_style='info', max=1.0), HTML(value='')))"
            ]
          },
          "metadata": {
            "tags": []
          }
        },
        {
          "output_type": "stream",
          "text": [
            "Extracting ./mnist_data/MNIST/raw/train-images-idx3-ubyte.gz to ./mnist_data/MNIST/raw\n",
            "Downloading http://yann.lecun.com/exdb/mnist/train-labels-idx1-ubyte.gz to ./mnist_data/MNIST/raw/train-labels-idx1-ubyte.gz\n"
          ],
          "name": "stdout"
        },
        {
          "output_type": "display_data",
          "data": {
            "application/vnd.jupyter.widget-view+json": {
              "model_id": "f4285f8d1c6b490fb8a9412e8cf1090d",
              "version_minor": 0,
              "version_major": 2
            },
            "text/plain": [
              "HBox(children=(FloatProgress(value=1.0, bar_style='info', max=1.0), HTML(value='')))"
            ]
          },
          "metadata": {
            "tags": []
          }
        },
        {
          "output_type": "stream",
          "text": [
            "Extracting ./mnist_data/MNIST/raw/train-labels-idx1-ubyte.gz to ./mnist_data/MNIST/raw\n",
            "Downloading http://yann.lecun.com/exdb/mnist/t10k-images-idx3-ubyte.gz to ./mnist_data/MNIST/raw/t10k-images-idx3-ubyte.gz\n"
          ],
          "name": "stdout"
        },
        {
          "output_type": "display_data",
          "data": {
            "application/vnd.jupyter.widget-view+json": {
              "model_id": "bfd1d3d866444ba5b39670295d18beb4",
              "version_minor": 0,
              "version_major": 2
            },
            "text/plain": [
              "HBox(children=(FloatProgress(value=1.0, bar_style='info', max=1.0), HTML(value='')))"
            ]
          },
          "metadata": {
            "tags": []
          }
        },
        {
          "output_type": "stream",
          "text": [
            "Extracting ./mnist_data/MNIST/raw/t10k-images-idx3-ubyte.gz to ./mnist_data/MNIST/raw\n",
            "Downloading http://yann.lecun.com/exdb/mnist/t10k-labels-idx1-ubyte.gz to ./mnist_data/MNIST/raw/t10k-labels-idx1-ubyte.gz\n"
          ],
          "name": "stdout"
        },
        {
          "output_type": "display_data",
          "data": {
            "application/vnd.jupyter.widget-view+json": {
              "model_id": "958dbab978cc4262810e934bfe2e34e5",
              "version_minor": 0,
              "version_major": 2
            },
            "text/plain": [
              "HBox(children=(FloatProgress(value=1.0, bar_style='info', max=1.0), HTML(value='')))"
            ]
          },
          "metadata": {
            "tags": []
          }
        },
        {
          "output_type": "stream",
          "text": [
            "Extracting ./mnist_data/MNIST/raw/t10k-labels-idx1-ubyte.gz to ./mnist_data/MNIST/raw\n",
            "Processing...\n",
            "Done!\n"
          ],
          "name": "stdout"
        },
        {
          "output_type": "stream",
          "text": [
            "/usr/local/lib/python3.6/dist-packages/torchvision/datasets/mnist.py:480: UserWarning: The given NumPy array is not writeable, and PyTorch does not support non-writeable tensors. This means you can write to the underlying (supposedly non-writeable) NumPy array using the tensor. You may want to copy the array to protect its data or make it writeable before converting it to a tensor. This type of warning will be suppressed for the rest of this program. (Triggered internally at  /pytorch/torch/csrc/utils/tensor_numpy.cpp:141.)\n",
            "  return torch.from_numpy(parsed.astype(m[2], copy=False)).view(*s)\n"
          ],
          "name": "stderr"
        }
      ]
    },
    {
      "cell_type": "markdown",
      "metadata": {
        "id": "1zbBbsxjegop"
      },
      "source": [
        "# contruct model architecture"
      ]
    },
    {
      "cell_type": "code",
      "metadata": {
        "id": "L8hJOKWdef0h"
      },
      "source": [
        "class CNN_MNIST(nn.Module):\n",
        "  def __init__(self):\n",
        "    super().__init__()\n",
        "    self.conv1 = nn.Conv2d(in_channels = 1, out_channels = 15, \n",
        "                           kernel_size = 5, stride = 1, padding = 0)\n",
        "    self.conv2 = nn.Conv2d(in_channels = 15, out_channels = 30, \n",
        "                           kernel_size = 3, stride = 1, padding = 0)\n",
        "    self.fc1 = nn.Linear(5*5*30, 500)\n",
        "    self.fc2 = nn.Linear(500, 10)\n",
        "\n",
        "  def forward(self, x):\n",
        "    x = F.tanh(self.conv1(x))\n",
        "    x = F.max_pool2d(x, kernel_size = 2, stride = 2)\n",
        "    x = F.tanh(self.conv2(x))\n",
        "    x = F.max_pool2d(x, kernel_size = 2, stride = 2)\n",
        "    x = x.view(-1, 5*5*30)      # flattening, torch.Size([batch 100, 5*5*30=750])  \n",
        "    x = F.tanh(self.fc1(x))\n",
        "    x = self.fc2(x)\n",
        "    return x"
      ],
      "execution_count": 4,
      "outputs": []
    },
    {
      "cell_type": "markdown",
      "metadata": {
        "id": "cKUaNDY8g8ry"
      },
      "source": [
        "# make model instance \n"
      ]
    },
    {
      "cell_type": "code",
      "metadata": {
        "id": "k-3h4gCGgfs4",
        "colab": {
          "base_uri": "https://localhost:8080/"
        },
        "outputId": "62d9ac46-03e1-4f65-d507-1c5829a5d400"
      },
      "source": [
        "torch.manual_seed(1)\n",
        "model = CNN_MNIST()\n",
        "model"
      ],
      "execution_count": 5,
      "outputs": [
        {
          "output_type": "execute_result",
          "data": {
            "text/plain": [
              "CNN_MNIST(\n",
              "  (conv1): Conv2d(1, 15, kernel_size=(5, 5), stride=(1, 1))\n",
              "  (conv2): Conv2d(15, 30, kernel_size=(3, 3), stride=(1, 1))\n",
              "  (fc1): Linear(in_features=750, out_features=500, bias=True)\n",
              "  (fc2): Linear(in_features=500, out_features=10, bias=True)\n",
              ")"
            ]
          },
          "metadata": {
            "tags": []
          },
          "execution_count": 5
        }
      ]
    },
    {
      "cell_type": "markdown",
      "metadata": {
        "id": "Lc1nU9M8g_Me"
      },
      "source": [
        "# optimizer "
      ]
    },
    {
      "cell_type": "code",
      "metadata": {
        "id": "nODj6oD3hDyv"
      },
      "source": [
        "# optimizer = torch.optim.Adam(model.parameters(), lr=0.01)\n",
        "optimizer = torch.optim.SGD(model.parameters(), lr=0.001)\n",
        "criterion = nn.CrossEntropyLoss() # cf. BCE()"
      ],
      "execution_count": 6,
      "outputs": []
    },
    {
      "cell_type": "code",
      "metadata": {
        "id": "uhmMC4Vlmsx0",
        "colab": {
          "base_uri": "https://localhost:8080/"
        },
        "outputId": "0e7e1f22-c652-4a53-8950-298b2a657652"
      },
      "source": [
        "epochs = 20\n",
        "running_loss_history = []\n",
        "running_corrects_history = []\n",
        "validation_running_loss_history = []\n",
        "validation_running_corrects_history = []\n",
        "\n",
        "for eno in range(epochs):\n",
        "\n",
        "  running_loss = 0.0\n",
        "  running_corrects = 0.0\n",
        "  validation_running_loss = 0.0\n",
        "  validation_running_corrects = 0.0\n",
        "\n",
        "  # a batch of 100 images x 600 batches -> 60,000 for a single epoch \n",
        "  for inputs, labels in train_loader:     \n",
        "    # input [100(batch size), 1(channel), 28(width), 28(height)] =>     \n",
        "    ## inputs = inputs.view(inputs.shape[0], -1) # [100, 784]\n",
        "    outputs = model(inputs) # logits (scores)\n",
        "    loss = criterion(outputs, labels) # outputs [100, 1], labels [100]\n",
        "    \n",
        "    optimizer.zero_grad()\n",
        "    loss.backward()\n",
        "    optimizer.step()\n",
        "\n",
        "    #max function output(max, max_indices)\n",
        "    _, pred_idx = torch.max(outputs, 1) # 2nd argument - the dim to reduce    \n",
        "\n",
        "    running_loss += loss.item() # loss per batch \n",
        "    running_corrects += torch.sum(pred_idx == labels.data)\n",
        "  else:\n",
        "    with torch.no_grad():\n",
        "      for validation_inputs, validation_labels in validation_loader:     \n",
        "        # input [100(batch size), 1(channel), 28(width), 28(height)] =>     \n",
        "        ## validation_inputs = validation_inputs.view(validation_inputs.shape[0], -1) # [100, 784]\n",
        "        validation_outputs = model(validation_inputs) # logits (scores)\n",
        "        validation_loss = criterion(validation_outputs, validation_labels) # outputs [100, 1], labels [100]\n",
        "        \n",
        "        #max function output(max, max_indices)\n",
        "        _, pred_idx = torch.max(validation_outputs, 1) # 2nd argument - the dim to reduce    \n",
        "\n",
        "        validation_running_loss += validation_loss.item() # loss per batch \n",
        "        validation_running_corrects += torch.sum(pred_idx == validation_labels.data)\n",
        "\n",
        "    epoch_loss = running_loss/len(train_loader) \n",
        "    running_loss_history.append(epoch_loss)\n",
        "    epoch_acc = (running_corrects.float()/inputs.shape[0]*100)/len(train_loader) \n",
        "    running_corrects_history.append(epoch_acc)\n",
        "    print('--------------- epoch: ', (eno+1), '---------------')\n",
        "    print('training loss: {:.4f}, accuracy {:.4f}'.format(epoch_loss, epoch_acc.item()))   \n",
        "\n",
        "    validation_epoch_loss = validation_running_loss/len(validation_loader) \n",
        "    validation_running_loss_history.append(validation_epoch_loss)\n",
        "    validation_epoch_acc = (validation_running_corrects.float()/validation_inputs.shape[0]*100)/len(validation_loader) \n",
        "    validation_running_corrects_history.append(validation_epoch_acc)    \n",
        "    print('validation loss: {:.4f}, accuracy {:.4f}'.format(validation_epoch_loss, validation_epoch_acc.item())) "
      ],
      "execution_count": 8,
      "outputs": [
        {
          "output_type": "stream",
          "text": [
            "/usr/local/lib/python3.6/dist-packages/torch/nn/functional.py:1628: UserWarning: nn.functional.tanh is deprecated. Use torch.tanh instead.\n",
            "  warnings.warn(\"nn.functional.tanh is deprecated. Use torch.tanh instead.\")\n"
          ],
          "name": "stderr"
        },
        {
          "output_type": "stream",
          "text": [
            "--------------- epoch:  1 ---------------\n",
            "training loss: 0.0951, accuracy 97.2633\n",
            "validation loss: 0.0832, accuracy 97.6600\n",
            "--------------- epoch:  2 ---------------\n",
            "training loss: 0.0890, accuracy 97.4500\n",
            "validation loss: 0.0781, accuracy 97.8000\n",
            "--------------- epoch:  3 ---------------\n",
            "training loss: 0.0838, accuracy 97.5500\n",
            "validation loss: 0.0742, accuracy 97.8400\n",
            "--------------- epoch:  4 ---------------\n",
            "training loss: 0.0795, accuracy 97.7200\n",
            "validation loss: 0.0705, accuracy 97.9800\n",
            "--------------- epoch:  5 ---------------\n",
            "training loss: 0.0757, accuracy 97.8067\n",
            "validation loss: 0.0670, accuracy 97.9600\n",
            "--------------- epoch:  6 ---------------\n",
            "training loss: 0.0723, accuracy 97.8833\n",
            "validation loss: 0.0644, accuracy 98.1100\n",
            "--------------- epoch:  7 ---------------\n",
            "training loss: 0.0693, accuracy 98.0150\n",
            "validation loss: 0.0621, accuracy 98.1700\n",
            "--------------- epoch:  8 ---------------\n",
            "training loss: 0.0666, accuracy 98.0500\n",
            "validation loss: 0.0601, accuracy 98.2100\n",
            "--------------- epoch:  9 ---------------\n",
            "training loss: 0.0642, accuracy 98.1133\n",
            "validation loss: 0.0581, accuracy 98.3000\n",
            "--------------- epoch:  10 ---------------\n",
            "training loss: 0.0620, accuracy 98.2000\n",
            "validation loss: 0.0564, accuracy 98.3100\n",
            "--------------- epoch:  11 ---------------\n",
            "training loss: 0.0600, accuracy 98.2667\n",
            "validation loss: 0.0546, accuracy 98.3900\n",
            "--------------- epoch:  12 ---------------\n",
            "training loss: 0.0581, accuracy 98.3233\n",
            "validation loss: 0.0540, accuracy 98.3600\n",
            "--------------- epoch:  13 ---------------\n",
            "training loss: 0.0565, accuracy 98.3600\n",
            "validation loss: 0.0524, accuracy 98.4100\n",
            "--------------- epoch:  14 ---------------\n",
            "training loss: 0.0548, accuracy 98.3667\n",
            "validation loss: 0.0507, accuracy 98.4900\n",
            "--------------- epoch:  15 ---------------\n",
            "training loss: 0.0534, accuracy 98.4717\n",
            "validation loss: 0.0497, accuracy 98.5000\n",
            "--------------- epoch:  16 ---------------\n",
            "training loss: 0.0520, accuracy 98.5067\n",
            "validation loss: 0.0490, accuracy 98.5300\n",
            "--------------- epoch:  17 ---------------\n",
            "training loss: 0.0507, accuracy 98.5433\n",
            "validation loss: 0.0482, accuracy 98.5700\n",
            "--------------- epoch:  18 ---------------\n",
            "training loss: 0.0494, accuracy 98.5817\n",
            "validation loss: 0.0471, accuracy 98.5600\n",
            "--------------- epoch:  19 ---------------\n",
            "training loss: 0.0482, accuracy 98.6067\n",
            "validation loss: 0.0460, accuracy 98.5800\n",
            "--------------- epoch:  20 ---------------\n",
            "training loss: 0.0472, accuracy 98.6300\n",
            "validation loss: 0.0457, accuracy 98.5700\n"
          ],
          "name": "stdout"
        }
      ]
    },
    {
      "cell_type": "code",
      "metadata": {
        "id": "uvtvO2UHvOrX",
        "colab": {
          "base_uri": "https://localhost:8080/",
          "height": 283
        },
        "outputId": "88909162-c985-4a69-f0b6-83484c0ac3a2"
      },
      "source": [
        "plt.plot(running_loss_history, label='training loss')\n",
        "plt.plot(validation_running_loss_history, label='validation loss')\n",
        "plt.legend()"
      ],
      "execution_count": 11,
      "outputs": [
        {
          "output_type": "execute_result",
          "data": {
            "text/plain": [
              "<matplotlib.legend.Legend at 0x7fca08532080>"
            ]
          },
          "metadata": {
            "tags": []
          },
          "execution_count": 11
        },
        {
          "output_type": "display_data",
          "data": {
            "image/png": "[encoded data removed]",
            "text/plain": [
              "<Figure size 432x288 with 1 Axes>"
            ]
          },
          "metadata": {
            "tags": [],
            "needs_background": "light"
          }
        }
      ]
    },
    {
      "cell_type": "code",
      "metadata": {
        "id": "AcLamulgvbzr",
        "colab": {
          "base_uri": "https://localhost:8080/",
          "height": 283
        },
        "outputId": "9905b256-85e9-462e-84d8-a45379656681"
      },
      "source": [
        "plt.plot(running_corrects_history, label='training accuracy(%)')\n",
        "plt.plot(validation_running_corrects_history, label='validation accuracy(%)')\n",
        "plt.legend()"
      ],
      "execution_count": 12,
      "outputs": [
        {
          "output_type": "execute_result",
          "data": {
            "text/plain": [
              "<matplotlib.legend.Legend at 0x7fca0846ba90>"
            ]
          },
          "metadata": {
            "tags": []
          },
          "execution_count": 12
        },
        {
          "output_type": "display_data",
          "data": {
            "image/png": "[encoded data removed]",
            "text/plain": [
              "<Figure size 432x288 with 1 Axes>"
            ]
          },
          "metadata": {
            "tags": [],
            "needs_background": "light"
          }
        }
      ]
    },
    {
      "cell_type": "markdown",
      "metadata": {
        "id": "kuBHXUbqpD06"
      },
      "source": [
        "# minist data visualization "
      ]
    },
    {
      "cell_type": "code",
      "metadata": {
        "id": "tZyKbTmYpDD9",
        "colab": {
          "base_uri": "https://localhost:8080/",
          "height": 1000
        },
        "outputId": "ece40b12-35bf-4826-a44a-f60189c8e4cd"
      },
      "source": [
        "# iter() returns an iterator for the given iterable object\n",
        "dataiter = iter(validation_loader)\n",
        "inputs, labels = dataiter.next()\n",
        "#outputs = model(inputs.view(inputs.shape[0], -1)) # logits (scores)\n",
        "outputs = model(inputs) # logits (scores)\n",
        "_, pred_idx = torch.max(outputs, 1) # 2nd argument - the dim to reduce    \n",
        "\n",
        "fig = plt.figure(figsize=(25, 25))\n",
        "\n",
        "for idx in np.arange(len(dataiter)): \n",
        "  ax = fig.add_subplot(10, 10, idx+1, xticks=[], yticks=[])\n",
        "\n",
        "  image = inputs[idx].clone().detach().numpy() # [1, 28, 28] = [channel, width, height]\n",
        "  image = image.transpose(1, 2, 0) # [28, 28, 1]\n",
        "  image = image * np.array((0.5, 0.5, 0.5)) + np.array((0.5, 0.5, 0.5)) # denomalization : x' = (x-u)/std => x = x'*std + u\n",
        "  image = image.clip(0, 1)\n",
        "  plt.imshow(image)\n",
        "\n",
        "  ax.set_title(\"P{} / L{}\".format(str(pred_idx[idx].item()), str(labels[idx].item())), color=(\"red\" if pred_idx[idx]!=labels[idx] else \"black\"))\n",
        "\n",
        "\n",
        "\n",
        "  \n"
      ],
      "execution_count": null,
      "outputs": [
        {
          "output_type": "display_data",
          "data": {
            "image/png": "[encoded data removed]",
            "text/plain": [
              "<Figure size 1800x1800 with 100 Axes>"
            ]
          },
          "metadata": {
            "tags": []
          }
        }
      ]
    }
  ]
}