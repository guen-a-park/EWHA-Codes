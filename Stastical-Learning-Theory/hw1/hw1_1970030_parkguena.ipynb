{
  "nbformat": 4,
  "nbformat_minor": 0,
  "metadata": {
    "colab": {
      "name": "Assignment1_LR.ipynb",
      "provenance": [],
      "collapsed_sections": []
    },
    "kernelspec": {
      "name": "python3",
      "display_name": "Python 3"
    }
  },
  "cells": [
    {
      "cell_type": "code",
      "metadata": {
        "id": "Dil34lm2V1T6"
      },
      "source": [
        "# import libraries\n",
        "import torch\n",
        "import numpy as np\n",
        "import matplotlib.pyplot as plt\n",
        "import torch.nn as nn\n",
        "from sklearn import datasets\n",
        "import pandas as pd\n",
        "import io\n",
        "import random\n",
        "from random import randint\n",
        "import seaborn as sns\n",
        "import statsmodels.api as sm\n",
        "%matplotlib inline\n"
      ],
      "execution_count": 58,
      "outputs": []
    },
    {
      "cell_type": "markdown",
      "metadata": {
        "id": "BB_0dFbHdrBg"
      },
      "source": [
        "# generating training dataset\n"
      ]
    },
    {
      "cell_type": "code",
      "metadata": {
        "id": "CHqtsBP8du2s",
        "outputId": "21c48c58-10dd-41d0-c93f-b87c5e117d1f",
        "colab": {
          "resources": {
            "http://localhost:8080/nbextensions/google.colab/files.js": {
              "data": "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",
              "ok": true,
              "headers": [
                [
                  "content-type",
                  "application/javascript"
                ]
              ],
              "status": 200,
              "status_text": ""
            }
          },
          "base_uri": "https://localhost:8080/",
          "height": 134
        }
      },
      "source": [
        "# upload file with dictionary format, with key as name of uploaded file \n",
        "# and corresponding values as the contens of the file \n",
        "from google.colab import files\n",
        "uploaded_train = files.upload()\n",
        "uploaded_test = files.upload()\n",
        "\n",
        "# use panda and io pachage to load txt. \n",
        "df_train = pd.read_csv(io.StringIO(uploaded_train['Train_Data.txt'].decode(\"utf-8\")), \n",
        "                       sep=',', names=['ID', 'x1', 'x2', 'x3', 'x4', 'x5', 'x6', 'x7', 'x8', 'x9', 'class'], header=None)\n",
        "\n",
        "#replace missing value ? with randint\n",
        "x_train = torch.Tensor(df_train[['x1', 'x2', 'x4','x5', 'x6', 'x9']].replace({'?':randint(1, 10)}).values.astype(np.uint8))\n",
        "# class 2 for benign, 4 for malignant -> 0 for bengn, 1 for malignant\n",
        "y_train = torch.Tensor(df_train['class'].replace({2:0, 4:1}).values.astype(np.uint8))"
      ],
      "execution_count": 59,
      "outputs": [
        {
          "output_type": "display_data",
          "data": {
            "text/html": [
              "\n",
              "     <input type=\"file\" id=\"files-549fe06a-7b20-4db9-8718-0b50d5c86f37\" name=\"files[]\" multiple disabled\n",
              "        style=\"border:none\" />\n",
              "     <output id=\"result-549fe06a-7b20-4db9-8718-0b50d5c86f37\">\n",
              "      Upload widget is only available when the cell has been executed in the\n",
              "      current browser session. Please rerun this cell to enable.\n",
              "      </output>\n",
              "      <script src=\"/nbextensions/google.colab/files.js\"></script> "
            ],
            "text/plain": [
              "<IPython.core.display.HTML object>"
            ]
          },
          "metadata": {
            "tags": []
          }
        },
        {
          "output_type": "stream",
          "text": [
            "Saving Train_Data.txt to Train_Data (9).txt\n"
          ],
          "name": "stdout"
        },
        {
          "output_type": "display_data",
          "data": {
            "text/html": [
              "\n",
              "     <input type=\"file\" id=\"files-7375dc01-8d7b-4254-9aed-f17127db921e\" name=\"files[]\" multiple disabled\n",
              "        style=\"border:none\" />\n",
              "     <output id=\"result-7375dc01-8d7b-4254-9aed-f17127db921e\">\n",
              "      Upload widget is only available when the cell has been executed in the\n",
              "      current browser session. Please rerun this cell to enable.\n",
              "      </output>\n",
              "      <script src=\"/nbextensions/google.colab/files.js\"></script> "
            ],
            "text/plain": [
              "<IPython.core.display.HTML object>"
            ]
          },
          "metadata": {
            "tags": []
          }
        },
        {
          "output_type": "stream",
          "text": [
            "Saving Test_Data.txt to Test_Data (9).txt\n"
          ],
          "name": "stdout"
        }
      ]
    },
    {
      "cell_type": "markdown",
      "metadata": {
        "id": "MHjTVI7MrwYC"
      },
      "source": [
        "#EDA(find correlation between features)"
      ]
    },
    {
      "cell_type": "code",
      "metadata": {
        "id": "-RBO0Q8mrvrY",
        "outputId": "a248707b-490c-4a13-bc07-cd4aa52b7f01",
        "colab": {
          "base_uri": "https://localhost:8080/",
          "height": 379
        }
      },
      "source": [
        "#using 1-filter method for feature selection\n",
        "\n",
        "#Loading the dataset\n",
        "df_train = np.where(df_train=='?',randint(1, 10),df_train)\n",
        "'''\n",
        "[[1000025 5 1 ... 1 1 2]\n",
        " [1002945 5 4 ... 2 1 2]\n",
        " [1015425 3 1 ... 1 1 2]\n",
        " ...\n",
        " [1182404 4 2 ... 1 1 2]\n",
        " [1204558 4 1 ... 1 1 2]\n",
        " [1217952 4 1 ... 1 1 2]]\n",
        " '''\n",
        "X = pd.DataFrame(df_train[:,1:10],columns=['x1', 'x2', 'x3', 'x4', 'x5', 'x6', 'x7', 'x8', 'x9'])\n",
        "#X.head()\n",
        "X = X.astype(int)\n",
        "\n",
        "#Using Pearson Correlation\n",
        "plt.figure(figsize=(6,5))\n",
        "cor = X.corr()\n",
        "sns.heatmap(cor, annot=True, cmap=plt.cm.Reds)\n",
        "plt.show()\n"
      ],
      "execution_count": 60,
      "outputs": [
        {
          "output_type": "stream",
          "text": [
            "/usr/local/lib/python3.6/dist-packages/pandas/core/computation/expressions.py:68: FutureWarning: elementwise comparison failed; returning scalar instead, but in the future will perform elementwise comparison\n",
            "  return op(a, b)\n"
          ],
          "name": "stderr"
        },
        {
          "output_type": "display_data",
          "data": {
            "image/png": "[encoded data removed]",
            "text/plain": [
              "<Figure size 432x360 with 2 Axes>"
            ]
          },
          "metadata": {
            "tags": [],
            "needs_background": "light"
          }
        }
      ]
    },
    {
      "cell_type": "markdown",
      "metadata": {
        "id": "eZbQkpxkhH6G"
      },
      "source": [
        "# Define model class\n",
        "z = w1*x1 + w2*x2 + w3*x3 ....  + w6*x6 + b  -> <br>\n",
        "y = a = sigma(z) -> <br>\n",
        "L(y_hat = a, y)\n"
      ]
    },
    {
      "cell_type": "code",
      "metadata": {
        "id": "GWDgg8yEhFMk",
        "outputId": "df696239-7809-4a65-dbdc-6211ce871f6f",
        "colab": {
          "base_uri": "https://localhost:8080/",
          "height": 86
        }
      },
      "source": [
        "class LogisticRegression(nn.Module):\n",
        "  def __init__(self, input_size, output_size):\n",
        "    super().__init__()\n",
        "    self.linear = nn.Linear(input_size, output_size)\n",
        "\n",
        "  def forward(self, x): \n",
        "    pred = torch.sigmoid(self.linear(x))\n",
        "    return pred   #probability (not direct value)\n",
        "\n",
        "  def predict(self, x):\n",
        "    pred = self.forward(x)\n",
        "    if pred >= 0.5:\n",
        "      return 1\n",
        "    else:\n",
        "      return 0\n",
        "\n",
        "\n",
        "# instantiate model class\n",
        "torch.manual_seed(1)\n",
        "model = LogisticRegression(x_train.shape[1], 1) # [500, 6]\n",
        "print(list(model.parameters()))\n"
      ],
      "execution_count": 61,
      "outputs": [
        {
          "output_type": "stream",
          "text": [
            "[Parameter containing:\n",
            "tensor([[ 0.2104, -0.1802, -0.0791,  0.1916, -0.3843,  0.2448]],\n",
            "       requires_grad=True), Parameter containing:\n",
            "tensor([-0.0840], requires_grad=True)]\n"
          ],
          "name": "stdout"
        }
      ]
    },
    {
      "cell_type": "markdown",
      "metadata": {
        "id": "7gkj4yqKlgcA"
      },
      "source": [
        "# training the model "
      ]
    },
    {
      "cell_type": "code",
      "metadata": {
        "id": "xkW2eQbklixb",
        "outputId": "96c3ba4a-a01c-4218-d359-b8dcf8c01a0b",
        "colab": {
          "base_uri": "https://localhost:8080/",
          "height": 1000
        }
      },
      "source": [
        "# instantitate optimizer \n",
        "criterion = nn.BCELoss()\n",
        "optimizer = torch.optim.Adam(model.parameters(), lr=0.09,weight_decay=0.001)\n",
        "\n",
        "# training the model \n",
        "epochs = 200\n",
        "losses = []\n",
        "\n",
        "for i in range(epochs):\n",
        "  y_pred = model.forward(x_train)\n",
        "\n",
        "  # calculrate loss \n",
        "  loss = criterion(y_pred, y_train)\n",
        "  print(\"epoch: \", i, \"loss: \", loss.item())\n",
        "  losses.append(loss.item())\n",
        "\n",
        "  optimizer.zero_grad() # clear gradients wrt parameters\n",
        "  loss.backward()\n",
        "  optimizer.step()\n",
        "\n",
        "#Calcualte accuracy of train datasets\n",
        "no_correct = 0\n",
        "\n",
        "for i in range(len(x_train)):\n",
        "  if model.predict(x_train[i]) == y_train[i]:\n",
        "    no_correct += 1\n",
        "\n",
        "accuracy = no_correct/len(x_train)*100\n",
        "print(\"Train accuracy = {}%\".format(accuracy))"
      ],
      "execution_count": 62,
      "outputs": [
        {
          "output_type": "stream",
          "text": [
            "/usr/local/lib/python3.6/dist-packages/torch/nn/modules/loss.py:529: UserWarning: Using a target size (torch.Size([500])) that is different to the input size (torch.Size([500, 1])) is deprecated. Please ensure they have the same size.\n",
            "  return F.binary_cross_entropy(input, target, weight=self.weight, reduction=self.reduction)\n"
          ],
          "name": "stderr"
        },
        {
          "output_type": "stream",
          "text": [
            "epoch:  0 loss:  1.2357287406921387\n",
            "epoch:  1 loss:  0.9801179766654968\n",
            "epoch:  2 loss:  1.0059466361999512\n",
            "epoch:  3 loss:  0.9240667223930359\n",
            "epoch:  4 loss:  0.7852089405059814\n",
            "epoch:  5 loss:  0.670183002948761\n",
            "epoch:  6 loss:  0.6353307366371155\n",
            "epoch:  7 loss:  0.6214807629585266\n",
            "epoch:  8 loss:  0.5535886287689209\n",
            "epoch:  9 loss:  0.4790746569633484\n",
            "epoch:  10 loss:  0.44556522369384766\n",
            "epoch:  11 loss:  0.4361695349216461\n",
            "epoch:  12 loss:  0.425645112991333\n",
            "epoch:  13 loss:  0.4063946008682251\n",
            "epoch:  14 loss:  0.3830696940422058\n",
            "epoch:  15 loss:  0.36437952518463135\n",
            "epoch:  16 loss:  0.3559867739677429\n",
            "epoch:  17 loss:  0.3555266857147217\n",
            "epoch:  18 loss:  0.35468634963035583\n",
            "epoch:  19 loss:  0.3478609323501587\n",
            "epoch:  20 loss:  0.3367367684841156\n",
            "epoch:  21 loss:  0.3263518810272217\n",
            "epoch:  22 loss:  0.3196243345737457\n",
            "epoch:  23 loss:  0.3159526288509369\n",
            "epoch:  24 loss:  0.3129824995994568\n",
            "epoch:  25 loss:  0.30869418382644653\n",
            "epoch:  26 loss:  0.30242863297462463\n",
            "epoch:  27 loss:  0.2948733866214752\n",
            "epoch:  28 loss:  0.2874298691749573\n",
            "epoch:  29 loss:  0.28134381771087646\n",
            "epoch:  30 loss:  0.2769625782966614\n",
            "epoch:  31 loss:  0.27354684472084045\n",
            "epoch:  32 loss:  0.2698831558227539\n",
            "epoch:  33 loss:  0.2652890980243683\n",
            "epoch:  34 loss:  0.260102778673172\n",
            "epoch:  35 loss:  0.25522664189338684\n",
            "epoch:  36 loss:  0.2513093948364258\n",
            "epoch:  37 loss:  0.248346209526062\n",
            "epoch:  38 loss:  0.24586121737957\n",
            "epoch:  39 loss:  0.2433353215456009\n",
            "epoch:  40 loss:  0.24052907526493073\n",
            "epoch:  41 loss:  0.23755766451358795\n",
            "epoch:  42 loss:  0.23474004864692688\n",
            "epoch:  43 loss:  0.23234431445598602\n",
            "epoch:  44 loss:  0.23038947582244873\n",
            "epoch:  45 loss:  0.22863826155662537\n",
            "epoch:  46 loss:  0.2267897129058838\n",
            "epoch:  47 loss:  0.22471144795417786\n",
            "epoch:  48 loss:  0.222509503364563\n",
            "epoch:  49 loss:  0.22039535641670227\n",
            "epoch:  50 loss:  0.21849636733531952\n",
            "epoch:  51 loss:  0.21677584946155548\n",
            "epoch:  52 loss:  0.2150944024324417\n",
            "epoch:  53 loss:  0.2133307307958603\n",
            "epoch:  54 loss:  0.21146319806575775\n",
            "epoch:  55 loss:  0.20956768095493317\n",
            "epoch:  56 loss:  0.20774909853935242\n",
            "epoch:  57 loss:  0.2060621976852417\n",
            "epoch:  58 loss:  0.20448037981987\n",
            "epoch:  59 loss:  0.2029295563697815\n",
            "epoch:  60 loss:  0.2013556808233261\n",
            "epoch:  61 loss:  0.19976608455181122\n",
            "epoch:  62 loss:  0.19821342825889587\n",
            "epoch:  63 loss:  0.19674654304981232\n",
            "epoch:  64 loss:  0.1953730583190918\n",
            "epoch:  65 loss:  0.19406196475028992\n",
            "epoch:  66 loss:  0.19277459383010864\n",
            "epoch:  67 loss:  0.19149371981620789\n",
            "epoch:  68 loss:  0.19023118913173676\n",
            "epoch:  69 loss:  0.189012348651886\n",
            "epoch:  70 loss:  0.18785302340984344\n",
            "epoch:  71 loss:  0.18674717843532562\n",
            "epoch:  72 loss:  0.18567384779453278\n",
            "epoch:  73 loss:  0.1846144050359726\n",
            "epoch:  74 loss:  0.18356606364250183\n",
            "epoch:  75 loss:  0.1825396567583084\n",
            "epoch:  76 loss:  0.18154746294021606\n",
            "epoch:  77 loss:  0.18059231340885162\n",
            "epoch:  78 loss:  0.1796661764383316\n",
            "epoch:  79 loss:  0.1787581890821457\n",
            "epoch:  80 loss:  0.1778629571199417\n",
            "epoch:  81 loss:  0.17698334157466888\n",
            "epoch:  82 loss:  0.17612648010253906\n",
            "epoch:  83 loss:  0.17529715597629547\n",
            "epoch:  84 loss:  0.1744939684867859\n",
            "epoch:  85 loss:  0.17371152341365814\n",
            "epoch:  86 loss:  0.1729448139667511\n",
            "epoch:  87 loss:  0.17219319939613342\n",
            "epoch:  88 loss:  0.1714596003293991\n",
            "epoch:  89 loss:  0.17074695229530334\n",
            "epoch:  90 loss:  0.1700553596019745\n",
            "epoch:  91 loss:  0.16938211023807526\n",
            "epoch:  92 loss:  0.1687236875295639\n",
            "epoch:  93 loss:  0.16807855665683746\n",
            "epoch:  94 loss:  0.16744711995124817\n",
            "epoch:  95 loss:  0.1668308973312378\n",
            "epoch:  96 loss:  0.1662304848432541\n",
            "epoch:  97 loss:  0.1656448394060135\n",
            "epoch:  98 loss:  0.16507194936275482\n",
            "epoch:  99 loss:  0.16451044380664825\n",
            "epoch:  100 loss:  0.16395989060401917\n",
            "epoch:  101 loss:  0.16342107951641083\n",
            "epoch:  102 loss:  0.16289442777633667\n",
            "epoch:  103 loss:  0.16237948834896088\n",
            "epoch:  104 loss:  0.16187520325183868\n",
            "epoch:  105 loss:  0.16138064861297607\n",
            "epoch:  106 loss:  0.1608954519033432\n",
            "epoch:  107 loss:  0.16041982173919678\n",
            "epoch:  108 loss:  0.15995405614376068\n",
            "epoch:  109 loss:  0.15949814021587372\n",
            "epoch:  110 loss:  0.15905170142650604\n",
            "epoch:  111 loss:  0.15861396491527557\n",
            "epoch:  112 loss:  0.15818464756011963\n",
            "epoch:  113 loss:  0.1577637940645218\n",
            "epoch:  114 loss:  0.15735124051570892\n",
            "epoch:  115 loss:  0.1569470763206482\n",
            "epoch:  116 loss:  0.15655094385147095\n",
            "epoch:  117 loss:  0.15616242587566376\n",
            "epoch:  118 loss:  0.15578119456768036\n",
            "epoch:  119 loss:  0.15540699660778046\n",
            "epoch:  120 loss:  0.15504007041454315\n",
            "epoch:  121 loss:  0.15468008816242218\n",
            "epoch:  122 loss:  0.1543271541595459\n",
            "epoch:  123 loss:  0.15398076176643372\n",
            "epoch:  124 loss:  0.15364088118076324\n",
            "epoch:  125 loss:  0.15330733358860016\n",
            "epoch:  126 loss:  0.15297982096672058\n",
            "epoch:  127 loss:  0.15265852212905884\n",
            "epoch:  128 loss:  0.15234321355819702\n",
            "epoch:  129 loss:  0.15203362703323364\n",
            "epoch:  130 loss:  0.15172958374023438\n",
            "epoch:  131 loss:  0.15143100917339325\n",
            "epoch:  132 loss:  0.1511377990245819\n",
            "epoch:  133 loss:  0.1508498638868332\n",
            "epoch:  134 loss:  0.1505671590566635\n",
            "epoch:  135 loss:  0.15028946101665497\n",
            "epoch:  136 loss:  0.15001672506332397\n",
            "epoch:  137 loss:  0.14974883198738098\n",
            "epoch:  138 loss:  0.14948564767837524\n",
            "epoch:  139 loss:  0.14922714233398438\n",
            "epoch:  140 loss:  0.14897306263446808\n",
            "epoch:  141 loss:  0.1487235277891159\n",
            "epoch:  142 loss:  0.1484781950712204\n",
            "epoch:  143 loss:  0.14823713898658752\n",
            "epoch:  144 loss:  0.1480000615119934\n",
            "epoch:  145 loss:  0.14776714146137238\n",
            "epoch:  146 loss:  0.14753814041614532\n",
            "epoch:  147 loss:  0.1473129689693451\n",
            "epoch:  148 loss:  0.14709173142910004\n",
            "epoch:  149 loss:  0.1468740850687027\n",
            "epoch:  150 loss:  0.14666011929512024\n",
            "epoch:  151 loss:  0.1464497447013855\n",
            "epoch:  152 loss:  0.1462429016828537\n",
            "epoch:  153 loss:  0.1460394710302353\n",
            "epoch:  154 loss:  0.14583928883075714\n",
            "epoch:  155 loss:  0.1456424742937088\n",
            "epoch:  156 loss:  0.14544880390167236\n",
            "epoch:  157 loss:  0.14525824785232544\n",
            "epoch:  158 loss:  0.1450708955526352\n",
            "epoch:  159 loss:  0.14488652348518372\n",
            "epoch:  160 loss:  0.14470504224300385\n",
            "epoch:  161 loss:  0.14452654123306274\n",
            "epoch:  162 loss:  0.14435088634490967\n",
            "epoch:  163 loss:  0.14417803287506104\n",
            "epoch:  164 loss:  0.14400795102119446\n",
            "epoch:  165 loss:  0.1438405066728592\n",
            "epoch:  166 loss:  0.14367569983005524\n",
            "epoch:  167 loss:  0.14351359009742737\n",
            "epoch:  168 loss:  0.1433538794517517\n",
            "epoch:  169 loss:  0.1431966871023178\n",
            "epoch:  170 loss:  0.1430419534444809\n",
            "epoch:  171 loss:  0.1428895890712738\n",
            "epoch:  172 loss:  0.14273956418037415\n",
            "epoch:  173 loss:  0.14259189367294312\n",
            "epoch:  174 loss:  0.14244642853736877\n",
            "epoch:  175 loss:  0.1423032283782959\n",
            "epoch:  176 loss:  0.14216215908527374\n",
            "epoch:  177 loss:  0.1420232653617859\n",
            "epoch:  178 loss:  0.14188642799854279\n",
            "epoch:  179 loss:  0.1417517215013504\n",
            "epoch:  180 loss:  0.14161892235279083\n",
            "epoch:  181 loss:  0.141488179564476\n",
            "epoch:  182 loss:  0.1413593739271164\n",
            "epoch:  183 loss:  0.14123250544071198\n",
            "epoch:  184 loss:  0.1411074548959732\n",
            "epoch:  185 loss:  0.14098432660102844\n",
            "epoch:  186 loss:  0.14086289703845978\n",
            "epoch:  187 loss:  0.14074335992336273\n",
            "epoch:  188 loss:  0.14062555134296417\n",
            "epoch:  189 loss:  0.14050942659378052\n",
            "epoch:  190 loss:  0.14039497077465057\n",
            "epoch:  191 loss:  0.14028219878673553\n",
            "epoch:  192 loss:  0.140171080827713\n",
            "epoch:  193 loss:  0.14006157219409943\n",
            "epoch:  194 loss:  0.13995355367660522\n",
            "epoch:  195 loss:  0.13984714448451996\n",
            "epoch:  196 loss:  0.13974222540855408\n",
            "epoch:  197 loss:  0.13963882625102997\n",
            "epoch:  198 loss:  0.13953693211078644\n",
            "epoch:  199 loss:  0.13943642377853394\n",
            "Train accuracy = 95.0%\n"
          ],
          "name": "stdout"
        }
      ]
    },
    {
      "cell_type": "code",
      "metadata": {
        "id": "rYkUBuB2lfiU",
        "outputId": "16991a23-4cad-4f5a-ee4d-903cb8602912",
        "colab": {
          "base_uri": "https://localhost:8080/",
          "height": 279
        }
      },
      "source": [
        "# log loss\n",
        "plt.plot(range(epochs), losses)\n",
        "plt.xlabel('epoch')\n",
        "plt.ylabel('loss')\n",
        "plt.grid()\n"
      ],
      "execution_count": 63,
      "outputs": [
        {
          "output_type": "display_data",
          "data": {
            "image/png": "[encoded data removed]",
            "text/plain": [
              "<Figure size 432x288 with 1 Axes>"
            ]
          },
          "metadata": {
            "tags": [],
            "needs_background": "light"
          }
        }
      ]
    },
    {
      "cell_type": "markdown",
      "metadata": {
        "id": "80NQ8m48n8fM"
      },
      "source": [
        "# model evalation with new datasets the model has never seen before"
      ]
    },
    {
      "cell_type": "code",
      "metadata": {
        "id": "ReUhXQhwFygw"
      },
      "source": [
        "# use panda and io pachage to load txt. \n",
        "df_test = pd.read_csv(io.StringIO(uploaded_test['Test_Data.txt'].decode(\"utf-8\")), \n",
        "                       sep=',', names=['ID', 'x1', 'x2', 'x3', 'x4', 'x5', 'x6', 'x7', 'x8', 'x9', 'class'], header=None)\n",
        "#replace missing value ? with randint\n",
        "x_test = torch.Tensor(df_test[['x1', 'x2', 'x4','x5', 'x6', 'x9']].replace({'?':randint(1, 10)}).values.astype(np.uint8))\n",
        "# class 2 for benign, 4 for malignant -> 0 for bengn, 1 for malignant\n",
        "y_test = torch.Tensor(df_test['class'].replace({2:0, 4:1}).values.astype(np.uint8))"
      ],
      "execution_count": 64,
      "outputs": []
    },
    {
      "cell_type": "code",
      "metadata": {
        "id": "eZcMsmzQHERY",
        "outputId": "174ab121-0b44-422f-81be-47c5545d1207",
        "colab": {
          "base_uri": "https://localhost:8080/",
          "height": 34
        }
      },
      "source": [
        "#model test w/ all test datasets\n",
        "no_correct = 0\n",
        "\n",
        "for i in range(len(x_test)):\n",
        "  if model.predict(x_test[i]) == y_test[i]:\n",
        "    no_correct += 1\n",
        "\n",
        "accuracy = no_correct/len(x_test)*100\n",
        "print(\"Predcition accuracy = {}%\".format(accuracy))"
      ],
      "execution_count": 65,
      "outputs": [
        {
          "output_type": "stream",
          "text": [
            "Predcition accuracy = 99.49748743718592%\n"
          ],
          "name": "stdout"
        }
      ]
    }
  ]
}