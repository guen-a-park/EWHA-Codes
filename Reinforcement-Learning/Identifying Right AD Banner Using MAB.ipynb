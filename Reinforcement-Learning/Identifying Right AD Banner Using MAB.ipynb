{
 "cells": [
  {
   "cell_type": "markdown",
   "metadata": {},
   "source": [
    "# Identifying Right AD Banner Using MAB"
   ]
  },
  {
   "cell_type": "markdown",
   "metadata": {},
   "source": [
    "\n",
    "\n",
    "Let us say you are running a website and you have five different banners for the same ad and you want to know which banner attracts the user? We model this problem statement as a bandit problem. Let us say these five banners are five bandits and we assign reward 1 if the user clicks the ad and reward 0 if the user does not click the ad.\n",
    "\n",
    "In a normal A/B testing, we perform complete exploration of all these five banners alone before deciding which banner is the best. But that will cost us lot of regret. Instead, we will use good exploration strategy for deciding which banner will give us most rewards (most clicks)"
   ]
  },
  {
   "cell_type": "markdown",
   "metadata": {
    "collapsed": true
   },
   "source": [
    " First, let us import necessary libraries"
   ]
  },
  {
   "cell_type": "code",
   "execution_count": 1,
   "metadata": {},
   "outputs": [
    {
     "name": "stderr",
     "output_type": "stream",
     "text": [
      "[2021-04-26 23:33:06,834] Making new env: BanditTenArmedGaussian-v0\n",
      "C:\\Users\\Magnet Gumee\\anaconda3\\lib\\site-packages\\gym\\envs\\registration.py:18: PkgResourcesDeprecationWarning: Parameters to load are deprecated.  Call .resolve and .require separately.\n",
      "  result = entry_point.load(False)\n"
     ]
    }
   ],
   "source": [
    "import gym_bandits\n",
    "import gym\n",
    "import numpy as np\n",
    "import pandas as pd\n",
    "import matplotlib.pyplot as plt\n",
    "%matplotlib inline\n",
    "import seaborn as sns\n",
    "env = gym.make(\"BanditTenArmedGaussian-v0\")"
   ]
  },
  {
   "cell_type": "markdown",
   "metadata": {
    "collapsed": true,
    "scrolled": true
   },
   "source": [
    "Let us simulate a dataset with 5*10000 as shape where the column is the ad banner type and rows are either 0 or 1 i.e whether the ad has been clicked or not clicked by the user respectively\n",
    "\n"
   ]
  },
  {
   "cell_type": "code",
   "execution_count": 2,
   "metadata": {},
   "outputs": [],
   "source": [
    "df = pd.DataFrame()\n",
    "df['Banner_type_0'] = np.random.randint(0,2,100000)\n",
    "df['Banner_type_1'] = np.random.randint(0,2,100000)\n",
    "df['Banner_type_2'] = np.random.randint(0,2,100000)\n",
    "df['Banner_type_3'] = np.random.randint(0,2,100000)\n",
    "df['Banner_type_4'] = np.random.randint(0,2,100000)"
   ]
  },
  {
   "cell_type": "code",
   "execution_count": 3,
   "metadata": {
    "scrolled": true
   },
   "outputs": [
    {
     "data": {
      "text/html": [
       "<div>\n",
       "<style scoped>\n",
       "    .dataframe tbody tr th:only-of-type {\n",
       "        vertical-align: middle;\n",
       "    }\n",
       "\n",
       "    .dataframe tbody tr th {\n",
       "        vertical-align: top;\n",
       "    }\n",
       "\n",
       "    .dataframe thead th {\n",
       "        text-align: right;\n",
       "    }\n",
       "</style>\n",
       "<table border=\"1\" class=\"dataframe\">\n",
       "  <thead>\n",
       "    <tr style=\"text-align: right;\">\n",
       "      <th></th>\n",
       "      <th>Banner_type_0</th>\n",
       "      <th>Banner_type_1</th>\n",
       "      <th>Banner_type_2</th>\n",
       "      <th>Banner_type_3</th>\n",
       "      <th>Banner_type_4</th>\n",
       "    </tr>\n",
       "  </thead>\n",
       "  <tbody>\n",
       "    <tr>\n",
       "      <th>0</th>\n",
       "      <td>0</td>\n",
       "      <td>1</td>\n",
       "      <td>0</td>\n",
       "      <td>0</td>\n",
       "      <td>0</td>\n",
       "    </tr>\n",
       "    <tr>\n",
       "      <th>1</th>\n",
       "      <td>1</td>\n",
       "      <td>1</td>\n",
       "      <td>1</td>\n",
       "      <td>0</td>\n",
       "      <td>1</td>\n",
       "    </tr>\n",
       "    <tr>\n",
       "      <th>2</th>\n",
       "      <td>1</td>\n",
       "      <td>0</td>\n",
       "      <td>1</td>\n",
       "      <td>0</td>\n",
       "      <td>1</td>\n",
       "    </tr>\n",
       "    <tr>\n",
       "      <th>3</th>\n",
       "      <td>1</td>\n",
       "      <td>0</td>\n",
       "      <td>0</td>\n",
       "      <td>1</td>\n",
       "      <td>1</td>\n",
       "    </tr>\n",
       "    <tr>\n",
       "      <th>4</th>\n",
       "      <td>0</td>\n",
       "      <td>1</td>\n",
       "      <td>1</td>\n",
       "      <td>0</td>\n",
       "      <td>1</td>\n",
       "    </tr>\n",
       "    <tr>\n",
       "      <th>5</th>\n",
       "      <td>1</td>\n",
       "      <td>1</td>\n",
       "      <td>1</td>\n",
       "      <td>1</td>\n",
       "      <td>0</td>\n",
       "    </tr>\n",
       "    <tr>\n",
       "      <th>6</th>\n",
       "      <td>0</td>\n",
       "      <td>0</td>\n",
       "      <td>1</td>\n",
       "      <td>0</td>\n",
       "      <td>0</td>\n",
       "    </tr>\n",
       "    <tr>\n",
       "      <th>7</th>\n",
       "      <td>1</td>\n",
       "      <td>0</td>\n",
       "      <td>1</td>\n",
       "      <td>1</td>\n",
       "      <td>0</td>\n",
       "    </tr>\n",
       "    <tr>\n",
       "      <th>8</th>\n",
       "      <td>0</td>\n",
       "      <td>0</td>\n",
       "      <td>1</td>\n",
       "      <td>1</td>\n",
       "      <td>0</td>\n",
       "    </tr>\n",
       "    <tr>\n",
       "      <th>9</th>\n",
       "      <td>1</td>\n",
       "      <td>1</td>\n",
       "      <td>1</td>\n",
       "      <td>1</td>\n",
       "      <td>0</td>\n",
       "    </tr>\n",
       "    <tr>\n",
       "      <th>10</th>\n",
       "      <td>1</td>\n",
       "      <td>0</td>\n",
       "      <td>1</td>\n",
       "      <td>1</td>\n",
       "      <td>1</td>\n",
       "    </tr>\n",
       "    <tr>\n",
       "      <th>11</th>\n",
       "      <td>0</td>\n",
       "      <td>1</td>\n",
       "      <td>1</td>\n",
       "      <td>0</td>\n",
       "      <td>0</td>\n",
       "    </tr>\n",
       "    <tr>\n",
       "      <th>12</th>\n",
       "      <td>0</td>\n",
       "      <td>0</td>\n",
       "      <td>0</td>\n",
       "      <td>0</td>\n",
       "      <td>0</td>\n",
       "    </tr>\n",
       "    <tr>\n",
       "      <th>13</th>\n",
       "      <td>1</td>\n",
       "      <td>0</td>\n",
       "      <td>0</td>\n",
       "      <td>1</td>\n",
       "      <td>0</td>\n",
       "    </tr>\n",
       "    <tr>\n",
       "      <th>14</th>\n",
       "      <td>0</td>\n",
       "      <td>0</td>\n",
       "      <td>0</td>\n",
       "      <td>1</td>\n",
       "      <td>0</td>\n",
       "    </tr>\n",
       "    <tr>\n",
       "      <th>15</th>\n",
       "      <td>1</td>\n",
       "      <td>1</td>\n",
       "      <td>0</td>\n",
       "      <td>1</td>\n",
       "      <td>1</td>\n",
       "    </tr>\n",
       "    <tr>\n",
       "      <th>16</th>\n",
       "      <td>0</td>\n",
       "      <td>0</td>\n",
       "      <td>0</td>\n",
       "      <td>0</td>\n",
       "      <td>1</td>\n",
       "    </tr>\n",
       "    <tr>\n",
       "      <th>17</th>\n",
       "      <td>1</td>\n",
       "      <td>0</td>\n",
       "      <td>1</td>\n",
       "      <td>1</td>\n",
       "      <td>1</td>\n",
       "    </tr>\n",
       "    <tr>\n",
       "      <th>18</th>\n",
       "      <td>1</td>\n",
       "      <td>1</td>\n",
       "      <td>1</td>\n",
       "      <td>1</td>\n",
       "      <td>0</td>\n",
       "    </tr>\n",
       "    <tr>\n",
       "      <th>19</th>\n",
       "      <td>1</td>\n",
       "      <td>1</td>\n",
       "      <td>1</td>\n",
       "      <td>0</td>\n",
       "      <td>1</td>\n",
       "    </tr>\n",
       "  </tbody>\n",
       "</table>\n",
       "</div>"
      ],
      "text/plain": [
       "    Banner_type_0  Banner_type_1  Banner_type_2  Banner_type_3  Banner_type_4\n",
       "0               0              1              0              0              0\n",
       "1               1              1              1              0              1\n",
       "2               1              0              1              0              1\n",
       "3               1              0              0              1              1\n",
       "4               0              1              1              0              1\n",
       "5               1              1              1              1              0\n",
       "6               0              0              1              0              0\n",
       "7               1              0              1              1              0\n",
       "8               0              0              1              1              0\n",
       "9               1              1              1              1              0\n",
       "10              1              0              1              1              1\n",
       "11              0              1              1              0              0\n",
       "12              0              0              0              0              0\n",
       "13              1              0              0              1              0\n",
       "14              0              0              0              1              0\n",
       "15              1              1              0              1              1\n",
       "16              0              0              0              0              1\n",
       "17              1              0              1              1              1\n",
       "18              1              1              1              1              0\n",
       "19              1              1              1              0              1"
      ]
     },
     "execution_count": 3,
     "metadata": {},
     "output_type": "execute_result"
    }
   ],
   "source": [
    "df.head(20)"
   ]
  },
  {
   "cell_type": "markdown",
   "metadata": {},
   "source": [
    "First, let us initialize necessary variables"
   ]
  },
  {
   "cell_type": "code",
   "execution_count": 4,
   "metadata": {},
   "outputs": [],
   "source": [
    "# number of banners\n",
    "num_banner = 5\n",
    "\n",
    "# number of iterations\n",
    "no_of_iterations = 1000\n",
    "\n",
    "# list for storing banners which are selected\n",
    "banner_selected = []\n",
    "\n",
    "# count number of times the banner was selected\n",
    "count = np.zeros(num_banner)\n",
    "\n",
    "# Q value of the banner\n",
    "Q = np.zeros(num_banner)\n",
    "\n",
    "# sum of rewards obtained by the banner\n",
    "sum_rewards = np.zeros(num_banner)"
   ]
  },
  {
   "cell_type": "markdown",
   "metadata": {},
   "source": [
    " Now we define the epsilon greedy policy"
   ]
  },
  {
   "cell_type": "code",
   "execution_count": 5,
   "metadata": {},
   "outputs": [],
   "source": [
    "def epsilon_greedy(epsilon):\n",
    "    \n",
    "    random_value = np.random.random()\n",
    "    choose_random = random_value < epsilon\n",
    "    \n",
    "    if choose_random:\n",
    "        action =  np.random.choice(num_banner)\n",
    "    else:\n",
    "        action = np.argmax(Q)\n",
    "    \n",
    "    return action\n"
   ]
  },
  {
   "cell_type": "code",
   "execution_count": 6,
   "metadata": {},
   "outputs": [
    {
     "name": "stdout",
     "output_type": "stream",
     "text": [
      "[0.49142857 0.44       0.43877551 0.50176678 0.4984326 ]\n",
      "[175. 125.  98. 283. 319.]\n",
      "[ 86.  55.  43. 142. 159.]\n",
      "[3, 0, 0, 2, 0, 0, 0, 0, 0, 0, 0, 0, 0, 0, 2, 0, 0, 0, 3, 0, 0, 0, 0, 0, 0, 0, 0, 3, 2, 0, 0, 0, 0, 3, 3, 0, 3, 0, 3, 0, 4, 2, 4, 1, 4, 3, 1, 1, 1, 3, 2, 1, 1, 1, 1, 0, 0, 1, 3, 0, 0, 2, 0, 0, 2, 0, 0, 0, 0, 0, 0, 0, 0, 0, 0, 0, 3, 0, 0, 0, 0, 0, 4, 0, 4, 0, 0, 0, 1, 0, 0, 0, 0, 2, 4, 0, 0, 2, 0, 1, 1, 2, 2, 0, 0, 1, 4, 1, 4, 1, 1, 2, 1, 1, 0, 1, 1, 4, 3, 1, 1, 0, 1, 1, 1, 3, 1, 2, 1, 1, 4, 3, 1, 3, 3, 4, 2, 0, 1, 3, 0, 2, 3, 3, 3, 2, 0, 3, 2, 1, 3, 2, 3, 3, 3, 2, 3, 3, 3, 3, 4, 1, 3, 3, 3, 3, 2, 1, 4, 0, 0, 4, 4, 4, 4, 4, 3, 0, 4, 4, 3, 4, 3, 4, 3, 2, 3, 3, 3, 2, 3, 3, 3, 2, 3, 2, 1, 3, 2, 3, 3, 4, 1, 3, 1, 2, 3, 0, 3, 3, 4, 3, 2, 3, 4, 3, 4, 4, 3, 3, 3, 3, 4, 3, 0, 3, 3, 3, 0, 3, 3, 0, 2, 1, 2, 3, 3, 3, 3, 3, 3, 3, 3, 3, 3, 3, 3, 1, 3, 0, 3, 3, 3, 3, 3, 3, 3, 3, 2, 3, 0, 1, 0, 4, 0, 2, 3, 0, 1, 3, 3, 3, 3, 3, 0, 3, 4, 2, 1, 3, 0, 3, 3, 3, 2, 0, 3, 3, 0, 2, 0, 3, 1, 3, 4, 3, 2, 0, 3, 3, 3, 3, 0, 3, 3, 0, 3, 1, 3, 0, 3, 3, 3, 2, 0, 3, 3, 3, 3, 0, 3, 3, 3, 3, 3, 1, 3, 3, 2, 3, 3, 1, 3, 1, 3, 1, 3, 2, 2, 3, 1, 3, 3, 3, 0, 3, 4, 3, 3, 2, 3, 0, 3, 0, 3, 3, 3, 3, 0, 3, 3, 3, 2, 3, 0, 0, 3, 2, 3, 3, 3, 3, 2, 3, 3, 3, 3, 3, 1, 1, 3, 4, 3, 4, 1, 2, 2, 3, 0, 3, 3, 3, 3, 3, 0, 1, 3, 1, 4, 0, 3, 3, 3, 1, 3, 3, 3, 3, 3, 3, 1, 3, 3, 3, 0, 3, 4, 3, 3, 3, 3, 2, 3, 3, 3, 0, 2, 1, 3, 3, 0, 1, 3, 3, 1, 0, 1, 4, 3, 0, 3, 3, 3, 4, 3, 3, 3, 3, 3, 4, 0, 3, 3, 2, 4, 2, 1, 4, 4, 0, 3, 0, 4, 4, 3, 1, 3, 0, 3, 3, 2, 0, 2, 3, 4, 2, 4, 1, 3, 3, 3, 3, 0, 4, 0, 4, 4, 4, 4, 4, 4, 4, 4, 4, 4, 4, 3, 3, 1, 3, 3, 4, 3, 4, 3, 3, 0, 3, 4, 3, 3, 4, 4, 2, 4, 1, 1, 3, 4, 1, 1, 3, 3, 4, 4, 4, 1, 0, 4, 0, 2, 2, 2, 4, 4, 4, 4, 1, 3, 0, 4, 4, 3, 1, 4, 4, 4, 0, 4, 4, 4, 0, 4, 4, 1, 4, 2, 4, 1, 4, 4, 4, 4, 1, 4, 0, 2, 0, 3, 4, 4, 0, 4, 4, 4, 4, 4, 2, 3, 4, 4, 4, 4, 2, 4, 0, 4, 3, 4, 4, 4, 0, 1, 3, 4, 2, 4, 4, 4, 3, 4, 4, 2, 4, 4, 1, 1, 4, 4, 4, 3, 4, 1, 3, 4, 4, 2, 4, 1, 2, 3, 2, 4, 4, 4, 4, 4, 4, 2, 4, 4, 1, 0, 4, 4, 3, 4, 2, 4, 4, 4, 4, 0, 4, 4, 4, 3, 4, 4, 1, 2, 1, 4, 4, 4, 4, 4, 4, 4, 4, 4, 4, 4, 4, 4, 3, 4, 3, 4, 4, 4, 0, 4, 4, 4, 4, 4, 4, 4, 2, 4, 1, 4, 4, 4, 4, 1, 0, 4, 1, 4, 1, 4, 4, 2, 2, 4, 4, 3, 4, 4, 4, 4, 4, 1, 2, 4, 4, 3, 2, 4, 4, 4, 1, 3, 3, 4, 4, 4, 1, 4, 1, 4, 4, 0, 4, 2, 1, 4, 4, 4, 4, 4, 4, 1, 0, 1, 0, 4, 4, 0, 3, 4, 4, 2, 1, 4, 4, 2, 4, 0, 4, 4, 3, 1, 4, 0, 1, 4, 4, 2, 2, 4, 4, 4, 4, 4, 4, 3, 0, 4, 0, 4, 0, 0, 2, 0, 4, 2, 1, 4, 4, 3, 3, 0, 4, 4, 1, 4, 1, 4, 2, 4, 1, 2, 0, 0, 0, 0, 0, 4, 0, 0, 0, 4, 0, 4, 1, 0, 3, 0, 1, 0, 0, 1, 0, 0, 2, 0, 0, 0, 0, 4, 0, 2, 1, 4, 4, 4, 4, 4, 4, 4, 4, 1, 0, 1, 4, 1, 3, 3, 3, 3, 3, 4, 4, 4, 4, 4, 4, 4, 2, 0, 0, 3, 1, 3, 2, 3, 4, 0, 3, 3, 3, 4, 3, 4, 4, 1, 4, 4, 1, 4, 0, 3, 4, 4, 3, 3, 1, 2, 4, 0, 4, 1, 3, 4, 3, 4, 3, 4, 4, 4, 1, 2, 1, 1, 2, 4, 1, 4, 2, 4, 4, 0, 1, 4, 4, 4, 1, 4, 4, 4, 1, 2, 3, 4, 4, 4, 1, 4, 4, 4, 2, 4, 4, 0, 1, 4, 1, 4, 4, 4, 0, 4, 0, 4, 2, 4, 4, 4, 4, 4, 4, 4, 4, 0, 4, 4, 4, 4, 4, 4, 2, 3, 0, 4, 4, 4, 4, 4, 2, 4, 4, 4, 4, 4, 4, 4, 4, 1, 4, 4, 4, 3, 3, 4, 3, 2, 3, 4, 2, 3, 3, 3, 2, 3, 3, 3, 3, 1, 3, 3, 1, 3, 3, 1, 0, 3, 0]\n"
     ]
    }
   ],
   "source": [
    "for i in range(no_of_iterations):\n",
    "    \n",
    "    # select the banner using epsilon greedy policy\n",
    "    banner = epsilon_greedy(0.5)\n",
    "        \n",
    "    # get the reward\n",
    "    reward = df.values[i, banner]\n",
    "           \n",
    "    # update the selected banner count\n",
    "    count[banner] += 1\n",
    "    \n",
    "    # sum the rewards obtained by that banner\n",
    "    sum_rewards[banner]+=reward\n",
    "    \n",
    "    # calculate the Q value of the banner\n",
    "    Q[banner] = sum_rewards[banner]/count[banner]\n",
    "    \n",
    "    banner_selected.append(banner)    \n",
    "   \n",
    "print(Q)\n",
    "print(count)\n",
    "print(sum_rewards)\n",
    "print(banner_selected)"
   ]
  },
  {
   "cell_type": "markdown",
   "metadata": {},
   "source": [
    "We can plot and see which banner type gives us most clicks(rewards)"
   ]
  },
  {
   "cell_type": "code",
   "execution_count": 7,
   "metadata": {},
   "outputs": [
    {
     "data": {
      "text/plain": [
       "<matplotlib.axes._subplots.AxesSubplot at 0x1e4152d3b48>"
      ]
     },
     "execution_count": 7,
     "metadata": {},
     "output_type": "execute_result"
    },
    {
     "data": {
      "image/png": "[encoded data removed]",
      "text/plain": [
       "<Figure size 432x288 with 1 Axes>"
      ]
     },
     "metadata": {
      "needs_background": "light"
     },
     "output_type": "display_data"
    }
   ],
   "source": [
    "sns.distplot(banner_selected)"
   ]
  },
  {
   "cell_type": "code",
   "execution_count": null,
   "metadata": {},
   "outputs": [],
   "source": []
  }
 ],
 "metadata": {
  "kernelspec": {
   "display_name": "Python 3",
   "language": "python",
   "name": "python3"
  },
  "language_info": {
   "codemirror_mode": {
    "name": "ipython",
    "version": 3
   },
   "file_extension": ".py",
   "mimetype": "text/x-python",
   "name": "python",
   "nbconvert_exporter": "python",
   "pygments_lexer": "ipython3",
   "version": "3.7.6"
  }
 },
 "nbformat": 4,
 "nbformat_minor": 2
}
